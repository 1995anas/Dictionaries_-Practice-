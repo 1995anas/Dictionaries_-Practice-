{
  "nbformat": 4,
  "nbformat_minor": 0,
  "metadata": {
    "colab": {
      "provenance": []
    },
    "kernelspec": {
      "name": "python3",
      "display_name": "Python 3"
    },
    "language_info": {
      "name": "python"
    }
  },
  "cells": [
    {
      "cell_type": "markdown",
      "source": [
        "# Dictionaries (Practice)\n",
        "- **Aans Abu Alhija**"
      ],
      "metadata": {
        "id": "8jhL0hDHKbL-"
      }
    },
    {
      "cell_type": "markdown",
      "source": [
        "In this notebook you will see examples of indexing dictionaries for  retrieving values, updarting values, and creating a new key:value pair.\n",
        "\n",
        "NOTE: Sets are not indexible because they are not ordered.  Instead, they have special methods to add, remove, or check for the presence of objects."
      ],
      "metadata": {
        "id": "zPAul2iiPAEL"
      }
    },
    {
      "cell_type": "markdown",
      "source": [
        "# Indexing\n"
      ],
      "metadata": {
        "id": "vmBZ_iwwSVk5"
      }
    },
    {
      "cell_type": "markdown",
      "source": [
        "\n",
        "## Tracking Coworker's Favorite Colors\n"
      ],
      "metadata": {
        "id": "d8YR6teXyS58"
      }
    },
    {
      "cell_type": "markdown",
      "source": [
        "\n",
        "A group of co-workers realized that they don't know each other very well beyond the day to day tasks of their jobs.\n",
        "\n",
        "To help build team comraderie, they decide to share their favorite colors with everyone.\n",
        "\n",
        "Let's make a dictionary of favorite colors, called `fav_colors` to track this information.  \n",
        "\n",
        "Since we want to be able to use look up a person's favorite color, we will use a dictionary with everyone's names as the keys and their favorite colors as the values.\n",
        "\n",
        "\n",
        "Run the cell below to create the dictionary of favorite colors."
      ],
      "metadata": {
        "id": "Tnp7ObvA12kJ"
      }
    },
    {
      "cell_type": "code",
      "source": [
        "# Create the dictionary\n",
        "fav_colors = {'James':'Red','Purvi':'Orange','Sherlin':'Purple','Josh':'Indigo'}\n",
        "print(fav_colors)"
      ],
      "metadata": {
        "colab": {
          "base_uri": "https://localhost:8080/"
        },
        "id": "WHKETBLRLGoc",
        "outputId": "f7cdd479-a477-46e5-f541-01e2c2d80abb"
      },
      "execution_count": 2,
      "outputs": [
        {
          "output_type": "stream",
          "name": "stdout",
          "text": [
            "{'James': 'Red', 'Purvi': 'Orange', 'Sherlin': 'Purple', 'Josh': 'Indigo'}\n"
          ]
        }
      ]
    },
    {
      "cell_type": "markdown",
      "source": [
        "## Adding to Our Dictionary"
      ],
      "metadata": {
        "id": "cXTnJA0s1XWC"
      }
    },
    {
      "cell_type": "markdown",
      "source": [
        "- A new person just the joined the team and needs to be added to our dictionary. We need to add Neerja to our dictionary and her favorite color is Green.\n"
      ],
      "metadata": {
        "id": "a5SZb_at0Mci"
      }
    },
    {
      "cell_type": "code",
      "source": [
        "# Add a new key for 'Neerja' with the value\n",
        "fav_colors['Neerja'] = 'Green'\n",
        "fav_colors"
      ],
      "metadata": {
        "colab": {
          "base_uri": "https://localhost:8080/"
        },
        "id": "3oln3wyWL_lK",
        "outputId": "a629c8ec-6e4a-4ef7-ed8c-23aaca72e779"
      },
      "execution_count": 3,
      "outputs": [
        {
          "output_type": "execute_result",
          "data": {
            "text/plain": [
              "{'James': 'Red',\n",
              " 'Purvi': 'Orange',\n",
              " 'Sherlin': 'Purple',\n",
              " 'Josh': 'Indigo',\n",
              " 'Neerja': 'Green'}"
            ]
          },
          "metadata": {},
          "execution_count": 3
        }
      ]
    },
    {
      "cell_type": "markdown",
      "source": [
        "- Add your own name and favorite color to the fav_colors dictionary."
      ],
      "metadata": {
        "id": "NeSvyU9LNDX_"
      }
    },
    {
      "cell_type": "code",
      "source": [
        "# Adding my name as key and my favorite color as a value\n",
        "fav_colors['Anas'] = 'Blue'\n",
        "print(fav_colors)"
      ],
      "metadata": {
        "colab": {
          "base_uri": "https://localhost:8080/"
        },
        "id": "Mh3_dA0TMizj",
        "outputId": "7ddf06ba-f1eb-429d-fcea-2469c8eab0dc"
      },
      "execution_count": 4,
      "outputs": [
        {
          "output_type": "stream",
          "name": "stdout",
          "text": [
            "{'James': 'Red', 'Purvi': 'Orange', 'Sherlin': 'Purple', 'Josh': 'Indigo', 'Neerja': 'Green', 'Anas': 'Blue'}\n"
          ]
        }
      ]
    },
    {
      "cell_type": "markdown",
      "source": [
        "## Updating Our Dictionary."
      ],
      "metadata": {
        "id": "yL7oyAPC5abV"
      }
    },
    {
      "cell_type": "markdown",
      "source": [
        "On second thought, James has had a change of heart and his new favorite color is Blue. Let's change the value for James to Blue and then confirm the value has been updated."
      ],
      "metadata": {
        "id": "Pgx9as4E5bsm"
      }
    },
    {
      "cell_type": "code",
      "source": [
        "# Updating the value for James to \"Blue\"\n",
        "fav_colors['James'] = 'Blue'\n",
        "print(fav_colors)"
      ],
      "metadata": {
        "colab": {
          "base_uri": "https://localhost:8080/"
        },
        "id": "NFAim1NdNpiE",
        "outputId": "dc8220bd-d557-4a9a-f6f3-b83cf89f4818"
      },
      "execution_count": 5,
      "outputs": [
        {
          "output_type": "stream",
          "name": "stdout",
          "text": [
            "{'James': 'Blue', 'Purvi': 'Orange', 'Sherlin': 'Purple', 'Josh': 'Indigo', 'Neerja': 'Green', 'Anas': 'Blue'}\n"
          ]
        }
      ]
    },
    {
      "cell_type": "code",
      "source": [
        "fav_colors['James']"
      ],
      "metadata": {
        "colab": {
          "base_uri": "https://localhost:8080/",
          "height": 36
        },
        "id": "KhczWif8N8zk",
        "outputId": "56cb05f8-25b1-499a-f601-e2a978b27b41"
      },
      "execution_count": 6,
      "outputs": [
        {
          "output_type": "execute_result",
          "data": {
            "text/plain": [
              "'Blue'"
            ],
            "application/vnd.google.colaboratory.intrinsic+json": {
              "type": "string"
            }
          },
          "metadata": {},
          "execution_count": 6
        }
      ]
    },
    {
      "cell_type": "markdown",
      "source": [
        "Purvi has also realized that she no longer likes Orange and that her true favorite color is Green.\n",
        "\n",
        "Update the fav_colors dictionary to change Purvi's value to Green."
      ],
      "metadata": {
        "id": "NDnJ1FMe56tJ"
      }
    },
    {
      "cell_type": "code",
      "source": [
        "# Update the value for Purvi to \"Green\"\n",
        "fav_colors['Purvi'] = 'Green'\n",
        "fav_colors['Purvi']"
      ],
      "metadata": {
        "colab": {
          "base_uri": "https://localhost:8080/",
          "height": 36
        },
        "id": "Nyo26d5rOc0N",
        "outputId": "f74fac78-6f58-4fa8-fe86-ce647c3eb409"
      },
      "execution_count": 7,
      "outputs": [
        {
          "output_type": "execute_result",
          "data": {
            "text/plain": [
              "'Green'"
            ],
            "application/vnd.google.colaboratory.intrinsic+json": {
              "type": "string"
            }
          },
          "metadata": {},
          "execution_count": 7
        }
      ]
    },
    {
      "cell_type": "code",
      "source": [
        "print(fav_colors)"
      ],
      "metadata": {
        "colab": {
          "base_uri": "https://localhost:8080/"
        },
        "id": "k9h1pEnTOtyY",
        "outputId": "50ea4b8a-1232-4ec6-eaed-22e3adb3841f"
      },
      "execution_count": 8,
      "outputs": [
        {
          "output_type": "stream",
          "name": "stdout",
          "text": [
            "{'James': 'Blue', 'Purvi': 'Green', 'Sherlin': 'Purple', 'Josh': 'Indigo', 'Neerja': 'Green', 'Anas': 'Blue'}\n"
          ]
        }
      ]
    },
    {
      "cell_type": "markdown",
      "source": [
        "## Tracking Favorite Colors AND Favorite Candy"
      ],
      "metadata": {
        "id": "3jvWg0sv2AMY"
      }
    },
    {
      "cell_type": "markdown",
      "source": [
        "The team realized that only sharing their favorite colors is barely scratching the surface of getting to know each other.\n",
        "\n",
        "The team decides to also share their favorite candies, too.\n",
        "\n",
        "\n",
        "To track both their favorite color AND candy, we *could* make a second dictionary called `fav_candy`, **but** then we wouldn't have our information stored together for each person.\n",
        "\n",
        "The alternative is to make a **nested** dictionary.\n",
        "\n",
        "Let's create a nested dictionary called `fav_items`. In our nested dictionary, we will still have the team members' names as the keys, but instead of a string with their favorite colors as the values, we will store **another** dictionary that contains 2 key:value pairs: \"color\" and \"candy\"."
      ],
      "metadata": {
        "id": "_KX3DUIW2AKA"
      }
    },
    {
      "cell_type": "code",
      "source": [
        "# Create the nested dictionary\n",
        "fav_items = {\"James\": {'color':'Blue',\n",
        "                       'candy':'Jelly Bellies'},\n",
        "             \"Purvi\": {'color':'Green',\n",
        "                       'candy':'Dark Chocolate'},\n",
        "             'Sherlin': {'color':'Purple',\n",
        "                      'candy':\"Peanut M&M's\"},\n",
        "             'Josh': {'color':'Indigo',\n",
        "                      'candy':'Chocolate Covered Potato Chips'},\n",
        "             \"Neerja\":{'color': 'Green',\n",
        "                       'candy': 'Milk Chocolate'}\n",
        "             }\n",
        "fav_items"
      ],
      "metadata": {
        "colab": {
          "base_uri": "https://localhost:8080/"
        },
        "id": "r68Dy-p3Pbp4",
        "outputId": "b4363214-f458-4658-b3ea-e79793801ca9"
      },
      "execution_count": 12,
      "outputs": [
        {
          "output_type": "execute_result",
          "data": {
            "text/plain": [
              "{'James': {'color': 'Blue', 'candy': 'Jelly Bellies'},\n",
              " 'Purvi': {'color': 'Green', 'candy': 'Dark Chocolate'},\n",
              " 'Sherlin': {'color': 'Purple', 'candy': \"Peanut M&M's\"},\n",
              " 'Josh': {'color': 'Indigo', 'candy': 'Chocolate Covered Potato Chips'},\n",
              " 'Neerja': {'color': 'Green', 'candy': 'Milk Chocolate'}}"
            ]
          },
          "metadata": {},
          "execution_count": 12
        }
      ]
    },
    {
      "cell_type": "markdown",
      "source": [
        "- The team realized they didn't offer to include their boss in the activity and found out that their boss, \"Brenda\" likes the color blue and her favoriate candy is Reese. Let's add Brenda to our `fav_items` dictionary.\n",
        "  - Tip: make sure to use double quotes for strings that will contain an apostrophe."
      ],
      "metadata": {
        "id": "XJGQUeUx2AH6"
      }
    },
    {
      "cell_type": "code",
      "source": [
        "fav_items['Brenda'] = {'color':'Blue','candy':'Reese'}\n",
        "fav_items"
      ],
      "metadata": {
        "colab": {
          "base_uri": "https://localhost:8080/"
        },
        "id": "CZo9Th10Smca",
        "outputId": "3b6d62e6-cf23-4890-bc97-a72edc71771d"
      },
      "execution_count": 13,
      "outputs": [
        {
          "output_type": "execute_result",
          "data": {
            "text/plain": [
              "{'James': {'color': 'Blue', 'candy': 'Jelly Bellies'},\n",
              " 'Purvi': {'color': 'Green', 'candy': 'Dark Chocolate'},\n",
              " 'Sherlin': {'color': 'Purple', 'candy': \"Peanut M&M's\"},\n",
              " 'Josh': {'color': 'Indigo', 'candy': 'Chocolate Covered Potato Chips'},\n",
              " 'Neerja': {'color': 'Green', 'candy': 'Milk Chocolate'},\n",
              " 'Brenda': {'color': 'Blue', 'candy': 'Reese'}}"
            ]
          },
          "metadata": {},
          "execution_count": 13
        }
      ]
    },
    {
      "cell_type": "markdown",
      "source": [
        "Add your yourself to our new `fav_items` dictionary following the example above. If you don't like candy, go ahead and list your favorite snack or meal instead."
      ],
      "metadata": {
        "id": "SmHv85s74sTh"
      }
    },
    {
      "cell_type": "code",
      "source": [
        "# Adding my name and my items\n",
        "fav_items['Anas'] = {'color':'Blue','candy':'Milk with nuts'}\n",
        "fav_items"
      ],
      "metadata": {
        "colab": {
          "base_uri": "https://localhost:8080/"
        },
        "id": "9FDRb9qoU4Xe",
        "outputId": "b122bd09-9419-4e22-ff5b-237b989ff2c9"
      },
      "execution_count": 14,
      "outputs": [
        {
          "output_type": "execute_result",
          "data": {
            "text/plain": [
              "{'James': {'color': 'Blue', 'candy': 'Jelly Bellies'},\n",
              " 'Purvi': {'color': 'Green', 'candy': 'Dark Chocolate'},\n",
              " 'Sherlin': {'color': 'Purple', 'candy': \"Peanut M&M's\"},\n",
              " 'Josh': {'color': 'Indigo', 'candy': 'Chocolate Covered Potato Chips'},\n",
              " 'Neerja': {'color': 'Green', 'candy': 'Milk Chocolate'},\n",
              " 'Brenda': {'color': 'Blue', 'candy': 'Reese'},\n",
              " 'Anas': {'color': 'Blue', 'candy': 'Milk with nuts'}}"
            ]
          },
          "metadata": {},
          "execution_count": 14
        }
      ]
    },
    {
      "cell_type": "markdown",
      "source": [
        "## Indexing Nested Dictionaries"
      ],
      "metadata": {
        "id": "YCh3uSGB5Qmc"
      }
    },
    {
      "cell_type": "markdown",
      "source": [
        "Now that we have everyone's favorites saved in our dictionary. Let's answer some questions about specific people and items. Now that we have a nested dictionary, we will need to use 2 sets of square brackets. the first set to slice out the name of the person and another set of square brakcets to slice out their favorite item.\n"
      ],
      "metadata": {
        "id": "D25mtgid6g2N"
      }
    },
    {
      "cell_type": "markdown",
      "source": [
        "\n",
        "#### Example: What is Purvi's favorite candy?"
      ],
      "metadata": {
        "id": "FNrJFd2-6oi_"
      }
    },
    {
      "cell_type": "code",
      "source": [
        "fav_items['Purvi']['candy']"
      ],
      "metadata": {
        "colab": {
          "base_uri": "https://localhost:8080/",
          "height": 36
        },
        "id": "8S_fhLXZV0K3",
        "outputId": "998ff9ac-7b73-4439-f81e-1afd4af74cb1"
      },
      "execution_count": 15,
      "outputs": [
        {
          "output_type": "execute_result",
          "data": {
            "text/plain": [
              "'Dark Chocolate'"
            ],
            "application/vnd.google.colaboratory.intrinsic+json": {
              "type": "string"
            }
          },
          "metadata": {},
          "execution_count": 15
        }
      ]
    },
    {
      "cell_type": "markdown",
      "source": [
        "What is Sherlin's favorite color?"
      ],
      "metadata": {
        "id": "6hGC-WIa7LzY"
      }
    },
    {
      "cell_type": "code",
      "source": [
        "fav_items['Sherlin']['color']"
      ],
      "metadata": {
        "colab": {
          "base_uri": "https://localhost:8080/",
          "height": 36
        },
        "id": "WTJaWAWXWA9m",
        "outputId": "26a8e216-bdc1-4681-bf1a-05dfa2327745"
      },
      "execution_count": 16,
      "outputs": [
        {
          "output_type": "execute_result",
          "data": {
            "text/plain": [
              "'Purple'"
            ],
            "application/vnd.google.colaboratory.intrinsic+json": {
              "type": "string"
            }
          },
          "metadata": {},
          "execution_count": 16
        }
      ]
    },
    {
      "cell_type": "markdown",
      "source": [
        "## Updating a Nested Dictionary\n",
        "\n"
      ],
      "metadata": {
        "id": "AXVEx7Hy8BRi"
      }
    },
    {
      "cell_type": "markdown",
      "source": [
        "James realized his favorite color isn't really red or blue - its Purple.\n",
        "\n",
        "Let's update the value for James' favorite color in our nested dictionary.\n",
        "\n",
        "Just like we needed a set of square brackets for each key we sliced to get to Sherlin's favorite color, we also need to use multiple square brackets to update a nested dictionary value."
      ],
      "metadata": {
        "id": "Z5tJ2tbU8C9N"
      }
    },
    {
      "cell_type": "code",
      "source": [
        "fav_items['James']['color'] = 'Purple'\n",
        "fav_items['James'][\"color\"]"
      ],
      "metadata": {
        "colab": {
          "base_uri": "https://localhost:8080/",
          "height": 36
        },
        "id": "uwD7oDPiWuDT",
        "outputId": "b86bd4b4-234e-4ab9-e43e-23701ad46af3"
      },
      "execution_count": 17,
      "outputs": [
        {
          "output_type": "execute_result",
          "data": {
            "text/plain": [
              "'Purple'"
            ],
            "application/vnd.google.colaboratory.intrinsic+json": {
              "type": "string"
            }
          },
          "metadata": {},
          "execution_count": 17
        }
      ]
    },
    {
      "cell_type": "markdown",
      "source": [
        "Neerja realized that she really prefers dark chocolate over milk chocolate.\n",
        "Change Neerja's favorite candy to \"Dark Chocolate.\""
      ],
      "metadata": {
        "id": "ilAaM-Et8rHE"
      }
    },
    {
      "cell_type": "code",
      "source": [
        "fav_items['Neerja']['candy'] = \"Dark Chocolate\"\n",
        "fav_items['Neerja']['candy']"
      ],
      "metadata": {
        "colab": {
          "base_uri": "https://localhost:8080/",
          "height": 36
        },
        "id": "zoq-IkPOXLV9",
        "outputId": "5ee68b6e-d4e6-40aa-ee16-060c5b6929ee"
      },
      "execution_count": 18,
      "outputs": [
        {
          "output_type": "execute_result",
          "data": {
            "text/plain": [
              "'Dark Chocolate'"
            ],
            "application/vnd.google.colaboratory.intrinsic+json": {
              "type": "string"
            }
          },
          "metadata": {},
          "execution_count": 18
        }
      ]
    },
    {
      "cell_type": "code",
      "source": [
        "# Final update for the dictionary\n",
        "fav_items"
      ],
      "metadata": {
        "colab": {
          "base_uri": "https://localhost:8080/"
        },
        "id": "UWB3FptNXYKu",
        "outputId": "9d592574-2e51-46ec-f04e-61d8a3c7acd8"
      },
      "execution_count": 19,
      "outputs": [
        {
          "output_type": "execute_result",
          "data": {
            "text/plain": [
              "{'James': {'color': 'Purple', 'candy': 'Jelly Bellies'},\n",
              " 'Purvi': {'color': 'Green', 'candy': 'Dark Chocolate'},\n",
              " 'Sherlin': {'color': 'Purple', 'candy': \"Peanut M&M's\"},\n",
              " 'Josh': {'color': 'Indigo', 'candy': 'Chocolate Covered Potato Chips'},\n",
              " 'Neerja': {'color': 'Green', 'candy': 'Dark Chocolate'},\n",
              " 'Brenda': {'color': 'Blue', 'candy': 'Reese'},\n",
              " 'Anas': {'color': 'Blue', 'candy': 'Milk with nuts'}}"
            ]
          },
          "metadata": {},
          "execution_count": 19
        }
      ]
    }
  ]
}